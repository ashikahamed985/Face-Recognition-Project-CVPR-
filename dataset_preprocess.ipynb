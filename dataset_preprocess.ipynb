{
 "cells": [
  {
   "cell_type": "code",
   "execution_count": 1,
   "metadata": {},
   "outputs": [],
   "source": [
    "import os\n",
    "import cv2\n",
    "import random\n",
    "import pickle\n",
    "from tqdm import tqdm\n",
    "import numpy as np\n",
    "import matplotlib.pyplot as plt"
   ]
  },
  {
   "cell_type": "code",
   "execution_count": 2,
   "metadata": {},
   "outputs": [],
   "source": [
    "DATA_DIR = 'G:\\\\Project\\\\data_dir'\n",
    "TRAIN_DATA_DIR = os.path.join(DATA_DIR, 'train')\n",
    "VALID_DATA_DIR = os.path.join(DATA_DIR, 'valid')\n",
    "TEST_DATA_DIR = os.path.join(DATA_DIR, 'test')"
   ]
  },
  {
   "cell_type": "code",
   "execution_count": 3,
   "metadata": {},
   "outputs": [
    {
     "name": "stdout",
     "output_type": "stream",
     "text": [
      "['ABDULLAH AL SHAHRIAR', 'AHMED IMTIAZ', 'AL-NAFI', 'ASHIK AHAMED', 'BISHANATH TARAFDER', 'BORSHON ALFRED GOMES', 'ESM-E MOULA CHOWDHURY ABHA', 'FAHIM RAHMAN', 'FAIZA BINTE ZAMAN', 'IMAM HASAN JAMI', 'MD ABU ZAYED KHAN', 'MD ATIK ULLAH KHAN', 'MD FARDIN AMIN RIYAD', 'MD IMTIAJ ALAM SAJIN', 'MD JAHID HASSAN', 'MD MUNTASIR AREFIN NAEEM', 'MD NAIMUR RAHMAN', 'MD SAJID ISLAM KHAN', 'MD SHANZID HASAN', 'MD TAREK MAHMUD', 'MD TOYABUR RAHAMAN', 'MD WAHIDUZZAMAN SUVA', 'MOHAMMAD BIN AB JALIL SHEAKH', 'MOHAMMAD NUR', 'MOHAMMED TANVIR HASSAN', 'NAFIS MUBASSHIR SHAH', 'NAHAR ISLAM NISHI', 'NAVID MAHFUZ NAYEEM', 'RAHAD-UL-ISLAM RABBY', 'REZWAN AHMAD', 'S M FAISAL', 'SABBIR AHMED', 'SADAT BIN MASUD', 'SATYAJIT DAS', 'SHEIKH AKIB ALMAS', 'SRABONE RAXIT', 'SYEDA HUMAIRA JABEEN', 'TAHFIM IBN KHAN', 'TAHMID AL RAFID SIDDIQUE', 'TARIKUL ISLAM NISHAT']\n"
     ]
    }
   ],
   "source": [
    "IMG_SIZE = 512\n",
    "CATEGORIES = []\n",
    "\n",
    "for i in os.listdir(TRAIN_DATA_DIR):\n",
    "    CATEGORIES.append(i)\n",
    "\n",
    "print(CATEGORIES)"
   ]
  },
  {
   "cell_type": "code",
   "execution_count": 4,
   "metadata": {},
   "outputs": [
    {
     "name": "stderr",
     "output_type": "stream",
     "text": [
      "  0%|          | 0/18 [00:00<?, ?it/s]"
     ]
    },
    {
     "name": "stderr",
     "output_type": "stream",
     "text": [
      "100%|██████████| 18/18 [00:02<00:00,  6.15it/s]\n",
      "100%|██████████| 22/22 [00:00<00:00, 22.17it/s]\n",
      " 11%|█         | 1/9 [00:00<00:00,  8.25it/s]"
     ]
    }
   ],
   "source": [
    "training_data = []\n",
    "\n",
    "for c in CATEGORIES:\n",
    "    path = os.path.join(TRAIN_DATA_DIR, c)\n",
    "    class_num = CATEGORIES.index(c) # 0\n",
    "    for img in tqdm(os.listdir(path)):\n",
    "        try:\n",
    "            img_array = cv2.imread(os.path.join(path, img))\n",
    "            img_resized = cv2.resize(img_array, (IMG_SIZE, IMG_SIZE))\n",
    "            training_data.append([img_resized, class_num])\n",
    "        except Exception as e:\n",
    "            pass\n",
    "\n",
    "print(len(training_data))"
   ]
  },
  {
   "cell_type": "code",
   "execution_count": null,
   "metadata": {},
   "outputs": [
    {
     "name": "stderr",
     "output_type": "stream",
     "text": [
      "100%|██████████| 6/6 [00:00<00:00,  7.63it/s]\n",
      "100%|██████████| 7/7 [00:00<00:00, 39.99it/s]\n",
      "100%|██████████| 3/3 [00:00<00:00, 13.82it/s]\n",
      "100%|██████████| 2/2 [00:00<00:00, 111.08it/s]\n",
      "100%|██████████| 2/2 [00:00<00:00, 13.98it/s]\n",
      "100%|██████████| 8/8 [00:00<00:00, 57.21it/s]\n",
      "100%|██████████| 3/3 [00:00<00:00,  7.69it/s]\n",
      "100%|██████████| 3/3 [00:00<00:00, 12.50it/s]\n",
      "100%|██████████| 3/3 [00:00<00:00,  4.14it/s]\n",
      "100%|██████████| 2/2 [00:00<00:00,  5.90it/s]\n",
      "100%|██████████| 7/7 [00:00<00:00,  9.21it/s]\n",
      "100%|██████████| 3/3 [00:00<00:00,  8.35it/s]\n",
      "100%|██████████| 9/9 [00:00<00:00, 11.63it/s]\n",
      "100%|██████████| 3/3 [00:00<00:00, 35.30it/s]\n",
      "100%|██████████| 3/3 [00:00<00:00, 13.39it/s]\n",
      "100%|██████████| 3/3 [00:00<00:00,  5.76it/s]\n",
      "100%|██████████| 3/3 [00:00<00:00, 25.29it/s]\n",
      "100%|██████████| 6/6 [00:00<00:00, 13.37it/s]\n",
      "100%|██████████| 6/6 [00:00<00:00, 14.10it/s]\n",
      "100%|██████████| 6/6 [00:00<00:00, 29.25it/s]\n",
      "100%|██████████| 9/9 [00:00<00:00,  9.39it/s]\n",
      "100%|██████████| 3/3 [00:00<00:00,  3.56it/s]\n",
      "100%|██████████| 3/3 [00:00<00:00,  7.11it/s]\n",
      "100%|██████████| 3/3 [00:00<00:00,  5.12it/s]\n",
      "100%|██████████| 5/5 [00:00<00:00, 10.21it/s]\n",
      "100%|██████████| 6/6 [00:00<00:00, 24.37it/s]\n",
      "100%|██████████| 5/5 [00:01<00:00,  4.71it/s]\n",
      "100%|██████████| 10/10 [00:01<00:00,  6.79it/s]\n",
      "100%|██████████| 3/3 [00:00<00:00, 16.04it/s]\n",
      "100%|██████████| 3/3 [00:00<00:00,  6.19it/s]\n",
      "100%|██████████| 3/3 [00:00<00:00, 33.32it/s]\n",
      "100%|██████████| 3/3 [00:00<00:00, 35.30it/s]\n",
      "100%|██████████| 6/6 [00:00<00:00, 13.57it/s]\n",
      "100%|██████████| 6/6 [00:00<00:00, 38.24it/s]\n",
      "100%|██████████| 6/6 [00:01<00:00,  5.73it/s]\n",
      "100%|██████████| 3/3 [00:00<00:00, 13.76it/s]\n",
      "100%|██████████| 6/6 [00:00<00:00,  7.23it/s]\n",
      "100%|██████████| 6/6 [00:01<00:00,  5.32it/s]\n",
      "100%|██████████| 3/3 [00:00<00:00, 80.51it/s]"
     ]
    },
    {
     "name": "stdout",
     "output_type": "stream",
     "text": [
      "180\n"
     ]
    },
    {
     "name": "stderr",
     "output_type": "stream",
     "text": [
      "\n"
     ]
    }
   ],
   "source": [
    "valid_data = []\n",
    "\n",
    "for c in CATEGORIES:\n",
    "    path = os.path.join(VALID_DATA_DIR, c)\n",
    "    class_num = CATEGORIES.index(c)\n",
    "    for img in tqdm(os.listdir(path)):\n",
    "        try:\n",
    "            img_array = cv2.imread(os.path.join(path, img))\n",
    "            img_resized = cv2.resize(img_array, (IMG_SIZE, IMG_SIZE))\n",
    "            valid_data.append([img_resized, class_num])\n",
    "        except Exception as e:\n",
    "            pass\n",
    "\n",
    "print(len(valid_data))"
   ]
  },
  {
   "cell_type": "code",
   "execution_count": null,
   "metadata": {},
   "outputs": [
    {
     "name": "stderr",
     "output_type": "stream",
     "text": [
      "100%|██████████| 4/4 [00:00<00:00,  6.29it/s]\n",
      "100%|██████████| 6/6 [00:00<00:00, 21.81it/s]\n",
      "100%|██████████| 3/3 [00:00<00:00,  6.37it/s]\n",
      "100%|██████████| 2/2 [00:00<00:00, 28.16it/s]\n",
      "100%|██████████| 2/2 [00:00<00:00, 42.54it/s]\n",
      "100%|██████████| 6/6 [00:00<00:00, 101.67it/s]\n",
      "100%|██████████| 2/2 [00:00<00:00,  7.91it/s]\n",
      "100%|██████████| 2/2 [00:00<00:00, 29.40it/s]\n",
      "100%|██████████| 2/2 [00:01<00:00,  1.83it/s]\n",
      "100%|██████████| 3/3 [00:00<00:00, 10.10it/s]\n",
      "100%|██████████| 6/6 [00:00<00:00, 11.98it/s]\n",
      "100%|██████████| 3/3 [00:00<00:00,  8.04it/s]\n",
      "100%|██████████| 7/7 [00:00<00:00, 12.60it/s]\n",
      "100%|██████████| 2/2 [00:00<00:00, 48.77it/s]\n",
      "100%|██████████| 2/2 [00:00<00:00, 16.95it/s]\n",
      "100%|██████████| 2/2 [00:00<00:00,  5.17it/s]\n",
      "100%|██████████| 2/2 [00:00<00:00, 17.86it/s]\n",
      "100%|██████████| 4/4 [00:00<00:00, 12.38it/s]\n",
      "100%|██████████| 4/4 [00:00<00:00, 15.44it/s]\n",
      "100%|██████████| 4/4 [00:00<00:00, 31.49it/s]\n",
      "100%|██████████| 7/7 [00:00<00:00, 12.66it/s]\n",
      "100%|██████████| 2/2 [00:00<00:00,  4.78it/s]\n",
      "100%|██████████| 2/2 [00:00<00:00,  5.20it/s]\n",
      "100%|██████████| 2/2 [00:00<00:00,  8.20it/s]\n",
      "100%|██████████| 5/5 [00:00<00:00, 11.48it/s]\n",
      "100%|██████████| 4/4 [00:00<00:00, 23.80it/s]\n",
      "100%|██████████| 5/5 [00:00<00:00,  5.64it/s]\n",
      "100%|██████████| 8/8 [00:01<00:00,  6.22it/s]\n",
      "100%|██████████| 2/2 [00:00<00:00, 10.59it/s]\n",
      "100%|██████████| 2/2 [00:00<00:00,  3.97it/s]\n",
      "100%|██████████| 3/3 [00:00<00:00, 26.08it/s]\n",
      "100%|██████████| 2/2 [00:00<00:00, 24.41it/s]\n",
      "100%|██████████| 4/4 [00:00<00:00,  9.50it/s]\n",
      "100%|██████████| 4/4 [00:00<00:00, 30.34it/s]\n",
      "100%|██████████| 4/4 [00:00<00:00,  4.90it/s]\n",
      "100%|██████████| 2/2 [00:00<00:00, 13.74it/s]\n",
      "100%|██████████| 4/4 [00:00<00:00,  8.17it/s]\n",
      "100%|██████████| 5/5 [00:01<00:00,  4.77it/s]\n",
      "100%|██████████| 3/3 [00:00<00:00, 53.56it/s]"
     ]
    },
    {
     "name": "stdout",
     "output_type": "stream",
     "text": [
      "138\n"
     ]
    },
    {
     "name": "stderr",
     "output_type": "stream",
     "text": [
      "\n"
     ]
    }
   ],
   "source": [
    "test_data = []\n",
    "\n",
    "for c in CATEGORIES:\n",
    "    path = os.path.join(TEST_DATA_DIR, c)\n",
    "    class_num = CATEGORIES.index(c)\n",
    "    for img in tqdm(os.listdir(path)):\n",
    "        try:\n",
    "            img_array = cv2.imread(os.path.join(path, img))\n",
    "            img_resized = cv2.resize(img_array, (IMG_SIZE, IMG_SIZE))\n",
    "            test_data.append([img_resized, class_num])\n",
    "        except Exception as e:\n",
    "            pass\n",
    "\n",
    "print(len(test_data))"
   ]
  },
  {
   "cell_type": "code",
   "execution_count": null,
   "metadata": {},
   "outputs": [],
   "source": [
    "random.shuffle(training_data)\n",
    "random.shuffle(valid_data)\n",
    "random.shuffle(test_data)"
   ]
  },
  {
   "cell_type": "code",
   "execution_count": null,
   "metadata": {},
   "outputs": [
    {
     "name": "stdout",
     "output_type": "stream",
     "text": [
      "X_train= (312, 512, 512, 3) Y_train= (312,)\n"
     ]
    }
   ],
   "source": [
    "X_train = []\n",
    "Y_train = []\n",
    "\n",
    "for img, label in training_data:\n",
    "    X_train.append(img)\n",
    "    Y_train.append(label)\n",
    "\n",
    "X_train = np.array(X_train).astype('float32').reshape(-1,512,512,3)\n",
    "Y_train = np.array(Y_train)\n",
    "\n",
    "print(f\"X_train= {X_train.shape} Y_train= {Y_train.shape}\")"
   ]
  },
  {
   "cell_type": "code",
   "execution_count": null,
   "metadata": {},
   "outputs": [
    {
     "name": "stdout",
     "output_type": "stream",
     "text": [
      "X_valid= (180, 512, 512, 3) Y_valid= (180,)\n"
     ]
    }
   ],
   "source": [
    "X_valid = []\n",
    "Y_valid = []\n",
    "\n",
    "for img, label in valid_data:\n",
    "    X_valid.append(img)\n",
    "    Y_valid.append(label)\n",
    "\n",
    "X_valid = np.array(X_valid).astype('float32').reshape(-1,512,512,3)\n",
    "Y_valid = np.array(Y_valid)\n",
    "\n",
    "print(f\"X_valid= {X_valid.shape} Y_valid= {Y_valid.shape}\")"
   ]
  },
  {
   "cell_type": "code",
   "execution_count": null,
   "metadata": {},
   "outputs": [
    {
     "name": "stdout",
     "output_type": "stream",
     "text": [
      "X_test= (138, 512, 512, 3) Y_test= (138,)\n"
     ]
    }
   ],
   "source": [
    "X_test = []\n",
    "Y_test = []\n",
    "\n",
    "for features,label in test_data:\n",
    "    X_test.append(features)\n",
    "    Y_test.append(label)\n",
    "\n",
    "X_test = np.array(X_test).astype('float32').reshape(-1, 512, 512, 3)\n",
    "Y_test = np.array(Y_test)\n",
    "\n",
    "print(f\"X_test= {X_test.shape} Y_test= {Y_test.shape}\")"
   ]
  },
  {
   "cell_type": "code",
   "execution_count": null,
   "metadata": {},
   "outputs": [],
   "source": [
    "pickle_out = open(\"./resources/X_train.pickle\",\"wb\")\n",
    "pickle.dump(X_train, pickle_out)\n",
    "pickle_out.close()\n",
    "\n",
    "pickle_out = open(\"./resources/Y_train.pickle\",\"wb\")\n",
    "pickle.dump(Y_train, pickle_out)\n",
    "pickle_out.close()\n",
    "\n",
    "pickle_out = open(\"./resources/X_valid.pickle\",\"wb\")\n",
    "pickle.dump(X_valid, pickle_out)\n",
    "pickle_out.close()\n",
    "\n",
    "pickle_out = open(\"./resources/Y_valid.pickle\",\"wb\")\n",
    "pickle.dump(Y_valid, pickle_out)\n",
    "pickle_out.close()\n",
    "\n",
    "pickle_out = open(\"./resources/X_test.pickle\",\"wb\")\n",
    "pickle.dump(X_test, pickle_out)\n",
    "pickle_out.close()\n",
    "\n",
    "pickle_out = open(\"./resources/Y_test.pickle\",\"wb\")\n",
    "pickle.dump(Y_test, pickle_out)\n",
    "pickle_out.close()"
   ]
  }
 ],
 "metadata": {
  "kernelspec": {
   "display_name": "cvpr tf2.10 py3.10",
   "language": "python",
   "name": "cvpr"
  },
  "language_info": {
   "codemirror_mode": {
    "name": "ipython",
    "version": 3
   },
   "file_extension": ".py",
   "mimetype": "text/x-python",
   "name": "python",
   "nbconvert_exporter": "python",
   "pygments_lexer": "ipython3",
   "version": "3.10.13"
  }
 },
 "nbformat": 4,
 "nbformat_minor": 2
}
